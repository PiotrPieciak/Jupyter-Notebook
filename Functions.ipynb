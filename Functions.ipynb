{
 "cells": [
  {
   "cell_type": "markdown",
   "id": "b45d2121-3a25-45a9-b71f-7694e5c9d9ae",
   "metadata": {},
   "source": [
    "#Używamy słoa def i wpisujemy nazwe funkcji, koczymy to podaniem zmiennych funkcji w nawiasie()\n",
    "Nsastepnie po wcieciu definujemy funckje"
   ]
  },
  {
   "cell_type": "code",
   "execution_count": 8,
   "id": "11339bdb-21de-4f9b-85f1-4311c99bfc36",
   "metadata": {
    "scrolled": true
   },
   "outputs": [],
   "source": [
    "def dodawanie():\n",
    "    a=2\n",
    "    b=3\n",
    "    return a+b"
   ]
  },
  {
   "cell_type": "code",
   "execution_count": 16,
   "id": "54ddf3a9-eb8e-43cf-bb58-1b4bc32dba3c",
   "metadata": {},
   "outputs": [
    {
     "data": {
      "text/plain": [
       "5"
      ]
     },
     "execution_count": 16,
     "metadata": {},
     "output_type": "execute_result"
    }
   ],
   "source": [
    "dodawanie()"
   ]
  },
  {
   "cell_type": "code",
   "execution_count": null,
   "id": "4139d65e-0fdd-45f3-80b4-4ff56821f8fd",
   "metadata": {},
   "outputs": [],
   "source": []
  }
 ],
 "metadata": {
  "kernelspec": {
   "display_name": "Python 3 (ipykernel)",
   "language": "python",
   "name": "python3"
  },
  "language_info": {
   "codemirror_mode": {
    "name": "ipython",
    "version": 3
   },
   "file_extension": ".py",
   "mimetype": "text/x-python",
   "name": "python",
   "nbconvert_exporter": "python",
   "pygments_lexer": "ipython3",
   "version": "3.12.3"
  }
 },
 "nbformat": 4,
 "nbformat_minor": 5
}
